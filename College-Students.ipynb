{
 "cells": [
  {
   "cell_type": "markdown",
   "metadata": {},
   "source": [
    "# MongoDB implementation using Python with JSON documents\n",
    "\n"
   ]
  },
  {
   "cell_type": "code",
   "execution_count": 1,
   "metadata": {},
   "outputs": [],
   "source": [
    "import pymongo\n",
    "\n",
    "client=pymongo.MongoClient('mongodb://127.0.0.1:27017/')\n",
    "\n",
    "Student_db=client['College']\n",
    "student_info=Student_db.StudentInformation"
   ]
  },
  {
   "cell_type": "code",
   "execution_count": 3,
   "metadata": {},
   "outputs": [
    {
     "data": {
      "text/plain": [
       "<pymongo.results.InsertOneResult at 0x2483cb85608>"
      ]
     },
     "execution_count": 3,
     "metadata": {},
     "output_type": "execute_result"
    }
   ],
   "source": [
    "record={\n",
    "        'firstname':'walter',\n",
    "        'lastname':'vijayakumar',\n",
    "        'department':'Mechanical Engineering',\n",
    "        'qualification':'BE',\n",
    "        'age':21,\n",
    "        'sex':'Male'\n",
    "        }\n",
    "student_info.insert_one(record)"
   ]
  },
  {
   "cell_type": "code",
   "execution_count": 6,
   "metadata": {},
   "outputs": [],
   "source": [
    "Student_Records=[{\n",
    "        'firstname':'Raja',\n",
    "        'lastname':'kumar',\n",
    "        'department':'Mechanical Engineering',\n",
    "        'qualification':'BE',\n",
    "        'age':21,\n",
    "        'sex':'Male'\n",
    "        },\n",
    "         {\n",
    "        'firstname':'premkumar',\n",
    "        'lastname':'vijayakumar',\n",
    "        'department':'Textile Engineering',\n",
    "        'qualification':'BTech',\n",
    "        'age':21,\n",
    "        'sex':'Male'\n",
    "        },\n",
    "        {\n",
    "        'firstname':'Selvakumar',\n",
    "        'lastname':'Rajendran',\n",
    "        'department':'Mechanical Engineering',\n",
    "        'qualification':'BE',\n",
    "        'age':21,\n",
    "        'sex':'Male'\n",
    "        },\n",
    "        {\n",
    "        'firstname':'Muthu',\n",
    "        'lastname':'raj',\n",
    "        'department':'Civil Engineering',\n",
    "        'qualification':'BE',\n",
    "        'age':21,\n",
    "        'sex':'Male'\n",
    "        }]"
   ]
  },
  {
   "cell_type": "code",
   "execution_count": 7,
   "metadata": {},
   "outputs": [
    {
     "data": {
      "text/plain": [
       "<pymongo.results.InsertManyResult at 0x2483e62aa08>"
      ]
     },
     "execution_count": 7,
     "metadata": {},
     "output_type": "execute_result"
    }
   ],
   "source": [
    "student_info.insert_many(Student_Records)"
   ]
  },
  {
   "cell_type": "markdown",
   "metadata": {},
   "source": [
    "## various ways to implement querying like tradtional database query\n",
    "## select * from StudentInformation"
   ]
  },
  {
   "cell_type": "code",
   "execution_count": 8,
   "metadata": {},
   "outputs": [
    {
     "name": "stdout",
     "output_type": "stream",
     "text": [
      "{'_id': ObjectId('5eec523faad202bebad8797d'), 'firstname': 'walter', 'lastname': 'vijayakumar', 'department': 'Mechanical Engineering', 'qualification': 'BE', 'age': 21, 'sex': 'Male'}\n",
      "{'_id': ObjectId('5eec5451aad202bebad8797e'), 'firstname': 'Raja', 'lastname': 'kumar', 'department': 'Mechanical Engineering', 'qualification': 'BE', 'age': 21, 'sex': 'Male'}\n",
      "{'_id': ObjectId('5eec5451aad202bebad8797f'), 'firstname': 'premkumar', 'lastname': 'vijayakumar', 'department': 'Textile Engineering', 'qualification': 'BTech', 'age': 21, 'sex': 'Male'}\n",
      "{'_id': ObjectId('5eec5451aad202bebad87980'), 'firstname': 'Selvakumar', 'lastname': 'Rajendran', 'department': 'Mechanical Engineering', 'qualification': 'BE', 'age': 21, 'sex': 'Male'}\n",
      "{'_id': ObjectId('5eec5451aad202bebad87981'), 'firstname': 'Muthu', 'lastname': 'raj', 'department': 'Civil Engineering', 'qualification': 'BE', 'age': 21, 'sex': 'Male'}\n"
     ]
    }
   ],
   "source": [
    "for all_records in student_info.find({}):\n",
    "    print(all_records)"
   ]
  },
  {
   "cell_type": "markdown",
   "metadata": {},
   "source": [
    "## select * from StudentInformation where firstname='walter'"
   ]
  },
  {
   "cell_type": "code",
   "execution_count": 9,
   "metadata": {},
   "outputs": [
    {
     "name": "stdout",
     "output_type": "stream",
     "text": [
      "{'_id': ObjectId('5eec523faad202bebad8797d'), 'firstname': 'walter', 'lastname': 'vijayakumar', 'department': 'Mechanical Engineering', 'qualification': 'BE', 'age': 21, 'sex': 'Male'}\n"
     ]
    }
   ],
   "source": [
    "for student_record in student_info.find({'firstname':'walter'}):\n",
    "    print(student_record)"
   ]
  },
  {
   "cell_type": "markdown",
   "metadata": {},
   "source": [
    "## select * from StudentInformation where qualification in ('be',btech)"
   ]
  },
  {
   "cell_type": "code",
   "execution_count": 10,
   "metadata": {},
   "outputs": [
    {
     "name": "stdout",
     "output_type": "stream",
     "text": [
      "{'_id': ObjectId('5eec523faad202bebad8797d'), 'firstname': 'walter', 'lastname': 'vijayakumar', 'department': 'Mechanical Engineering', 'qualification': 'BE', 'age': 21, 'sex': 'Male'}\n",
      "{'_id': ObjectId('5eec5451aad202bebad8797e'), 'firstname': 'Raja', 'lastname': 'kumar', 'department': 'Mechanical Engineering', 'qualification': 'BE', 'age': 21, 'sex': 'Male'}\n",
      "{'_id': ObjectId('5eec5451aad202bebad8797f'), 'firstname': 'premkumar', 'lastname': 'vijayakumar', 'department': 'Textile Engineering', 'qualification': 'BTech', 'age': 21, 'sex': 'Male'}\n",
      "{'_id': ObjectId('5eec5451aad202bebad87980'), 'firstname': 'Selvakumar', 'lastname': 'Rajendran', 'department': 'Mechanical Engineering', 'qualification': 'BE', 'age': 21, 'sex': 'Male'}\n",
      "{'_id': ObjectId('5eec5451aad202bebad87981'), 'firstname': 'Muthu', 'lastname': 'raj', 'department': 'Civil Engineering', 'qualification': 'BE', 'age': 21, 'sex': 'Male'}\n"
     ]
    }
   ],
   "source": [
    "for student_record in student_info.find({'qualification':{'$in':['BE','BTech']}}):\n",
    "    print(student_record)"
   ]
  },
  {
   "cell_type": "code",
   "execution_count": null,
   "metadata": {},
   "outputs": [],
   "source": []
  },
  {
   "cell_type": "code",
   "execution_count": null,
   "metadata": {},
   "outputs": [],
   "source": []
  },
  {
   "cell_type": "code",
   "execution_count": null,
   "metadata": {},
   "outputs": [],
   "source": []
  }
 ],
 "metadata": {
  "kernelspec": {
   "display_name": "Python 3",
   "language": "python",
   "name": "python3"
  },
  "language_info": {
   "codemirror_mode": {
    "name": "ipython",
    "version": 3
   },
   "file_extension": ".py",
   "mimetype": "text/x-python",
   "name": "python",
   "nbconvert_exporter": "python",
   "pygments_lexer": "ipython3",
   "version": "3.7.6"
  }
 },
 "nbformat": 4,
 "nbformat_minor": 4
}
